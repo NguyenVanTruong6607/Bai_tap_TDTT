{
 "cells": [
  {
   "cell_type": "code",
   "execution_count": null,
   "id": "225852ba",
   "metadata": {},
   "outputs": [],
   "source": [
    "#Bài 1: Nhập vào số nguyên n, in ra màn hình số gấp đôi của n\n",
    "n=int(input(\"Nhập số nguyên n: \"))\n",
    "print(f\"Số gấp đôi n là {2*n}\")"
   ]
  },
  {
   "cell_type": "code",
   "execution_count": null,
   "id": "1bf06482",
   "metadata": {},
   "outputs": [],
   "source": [
    "# Bài 2: Một khu đất hình chữ nhật có chiều rộng a, chiều dài b. Người ra xây một khu\n",
    "# vui chơi hình tròn tại vị trí trung tâm khu đất như hình vẽ. Nhập vào a, b. Hãy tính phần\n",
    "# diện tích còn để trồng cây xung quanh là bao nhiêu. Biết pi = 3.14, lấy kết quả đến 2\n",
    "# chữ số phần thập phân.\n",
    "a=int(input(\"Độ dài chiều rộng là:\"))\n",
    "b=int(input(\"Độ dài chiều dài là:\"))\n",
    "print(f\"Diện tích phần còn lại là: {(a*b-3.14*(a/2)*(a/2)):.1f}\")"
   ]
  },
  {
   "cell_type": "code",
   "execution_count": null,
   "id": "75cb5bef",
   "metadata": {},
   "outputs": [],
   "source": [
    "# Bài 3: Viết chương trình nhập vào một “kí tự” c, nếu nó là chữ hoa thì in ra chữ thường\n",
    "# tương ứng và ngược lại nếu nó là chữ thường thì in ra chữ hoa tương ứng của nó. (xem\n",
    "# trước cấu trúc lựa chọn: if….else, ma) \n",
    "letter=input(\"Mời nhập chữ cái:\")\n",
    "letter_uni=ord(letter)\n",
    "if 97<=letter_uni<=122:\n",
    "    print(f\"Chữ viết hoa của {letter} là: {chr(letter_uni-32)}\")\n",
    "\n",
    "elif 65<=letter_uni<=90:\n",
    "     print(f\"Chữ viết thường của {letter} là: {chr(letter_uni+32)}\")\n"
   ]
  },
  {
   "cell_type": "code",
   "execution_count": null,
   "id": "3a8ad712",
   "metadata": {},
   "outputs": [],
   "source": [
    "# Bài 4: Viết chương trình nhập vào một “kí tự”, Kiểm tra xem c có phải là kí tự chữ cái\n",
    "# không (hoa hoặc thường). Nếu đúng thì in ra “{c} là kí tu alphabet”, nếu sai in ra “{c}\n",
    "# không phải là kí tự alphabet. \n",
    "letter=input(\"Mời nhập KÍ TỰ:\")\n",
    "if letter.isalpha():\n",
    "    print(f\"{letter} là alphabet\")\n",
    "else:\n",
    "    print(f\"{letter} không phải là alphabet\")\n"
   ]
  },
  {
   "cell_type": "code",
   "execution_count": null,
   "id": "f5dc7177",
   "metadata": {},
   "outputs": [],
   "source": [
    "# Bài 5: Nhập vào chữ cái hoa A, in ra chữ cái thường liền trước chữ cái a thường tương\n",
    "# ứng của A. Xét TH khi c = ‘A’ là đặc biệt\n",
    "\n",
    "chu_cai_hoa = input(\"Nhập vào một chữ cái hoa: \")\n",
    "if chu_cai_hoa == 'A':\n",
    "    print(\"Không có chữ cái thường liền trước 'a'.\")\n",
    "else:\n",
    "    chu_cai_thuong_tuong_ung = chu_cai_hoa.lower()\n",
    "    chu_cai_thuong_lien_truoc = chr(ord(chu_cai_thuong_tuong_ung) - 1)\n",
    "    print(f\"Chữ cái thường liền trước của '{chu_cai_thuong_tuong_ung}' là: {chu_cai_thuong_lien_truoc}\")"
   ]
  },
  {
   "cell_type": "code",
   "execution_count": null,
   "id": "130e68b5",
   "metadata": {},
   "outputs": [],
   "source": [
    "# Bài 6. Nhập vào 3 số a, b, c. Kiểm tra xem đây có phải là cạnh của 1 tam giác không,\n",
    "# nếu đúng thì tính diện tích của tam giác đó, in ra với 1 chữ số phần thập phân, nếu nó\n",
    "# không phải 3 cạnh của tam giác thì in ra “Khong phai 3 canh cua tam giac”\n",
    "import math\n",
    "a,b,c=map(float,input(\"Nhập 3 cạnh cách nhau bằng dấu cách:\").split())\n",
    "if a + b > c and a + c > b and b + c > a:\n",
    "    nua_chu_vi=(a+b+c)/2\n",
    "# dùng công thức heron\n",
    "    print(f\"Diện tích tam giác là {math.sqrt(nua_chu_vi*(nua_chu_vi-a)*(nua_chu_vi-b)*(nua_chu_vi-c)):.1f}\")\n",
    "else:\n",
    "    print(\"Không phải 3 cạnh của tam giác\")    "
   ]
  },
  {
   "cell_type": "code",
   "execution_count": null,
   "id": "a632d88a",
   "metadata": {},
   "outputs": [],
   "source": [
    "# Bài 7: Nhập vào một chuỗi gồm các kí tự thường độ dài >=20, in ra chữ cái thứ năm và\n",
    "# thứ chín của chuỗi này. \n",
    "chuoi=input(\"Nhập vào một chuỗi gồm các kí tự thường độ dài >=20:\")\n",
    "print(f\"Chữ cái thứ 5 của chuỗi là '{chuoi[4]}'\")\n",
    "print(f\"Chữ cái thứ 9 của chuỗi là '{chuoi[8]}'\")"
   ]
  },
  {
   "cell_type": "code",
   "execution_count": null,
   "id": "e7d09254",
   "metadata": {},
   "outputs": [],
   "source": [
    "# Bài 8: Nhập vào họ tên chủ hộ và chỉ số điện kế tháng trước và chỉ số điện kế tháng này,\n",
    "# tính tiền điện tháng này cho hộ biết:\n",
    "# - Từ 0 – 50kWh: 1.984 đồng/kWh\n",
    "# - Bậc 2: Từ 51 – 100 kWh: 2.050 đồng/kWh\n",
    "# - Bậc 3: Từ 101 – 200 kWh: 2.380 đồng/kWh\n",
    "# - Bậc 4: Từ 201 – 300 kWh: 2.998 đồng/kWh\n",
    "# - Bậc 5: Từ 301 – 400 kWh: 3.350 đồng/kWh\n",
    "# - Bậc 6: Từ 401 trở đi kWh: 3.460 đồng/kWh\n",
    "# Tính thêm tiền VAT 8%. Chỉ lấy đến đơn vị đồng\n",
    "def tinh_tien_dien(so_dien,ten):\n",
    "    if 0<= so_dien <=50:\n",
    "        print(f\"Ho va ten: {ten}\")\n",
    "        print(f\"Tien phai tra la: {round((so_dien*1984)*1.08)}\")\n",
    "    if 51<= so_dien <=100:\n",
    "        print(f\"Ho va ten: {ten}\")\n",
    "        print(f\"Tien phai tra la: {round((50*1984+(so_dien-50)*2050)*1.08)}\")\n",
    "    if 101<= so_dien <=200:\n",
    "        print(f\"Ho va ten: {ten}\")\n",
    "        print(f\"Tien phai tra la: {round((50*(1984+2050)+(so_dien-100)*2380)*1.08)}\")\n",
    "    if 201<= so_dien <=300:\n",
    "        print(f\"Ho va ten: {ten}\")\n",
    "        print(f\"Tien phai tra la: {round((50*(1984+2050+2380*2)+(so_dien-200)*2998)*1.08)}\")    \n",
    "    if 301<= so_dien <=400:\n",
    "        print(f\"Ho va ten: {ten}\")\n",
    "        print(f\"Tien phai tra la: {round((50*(1984+2050+2998*2+2380*2)+(so_dien-300)*3350)*1.08)}\")\n",
    "    if 401<= so_dien:\n",
    "        print(f\"Ho va ten: {ten}\")\n",
    "        print(f\"Tien phai tra la: {round((50*(1984+2050+2998*2+2380*2+3350*2)+(so_dien-400)*3460)*1.08)}\")\n",
    "name=input(\"Ten chu ho:\")\n",
    "so_dien_truoc=int(input(\"Chi so thang truoc:\"))\n",
    "so_dien_sau=int(input(\"Chi so thang nay:\"))\n",
    "sum=so_dien_sau-so_dien_truoc\n",
    "tinh_tien_dien(sum,name)\n",
    "\n",
    "\n",
    "\n"
   ]
  }
 ],
 "metadata": {
  "language_info": {
   "name": "python"
  }
 },
 "nbformat": 4,
 "nbformat_minor": 5
}
