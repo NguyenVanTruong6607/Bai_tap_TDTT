{
 "cells": [
  {
   "cell_type": "code",
   "execution_count": null,
   "id": "4dea2313",
   "metadata": {},
   "outputs": [],
   "source": [
    "#W4A1\n",
    "n=int(input(\"Nhập số n:\"))\n",
    "sum=0\n",
    "for i in range(1,n+1):\n",
    "   sum+=i\n",
    "print(f\"Tổng các số từ 1 đến n là: {sum}\")"
   ]
  },
  {
   "cell_type": "code",
   "execution_count": null,
   "id": "e782518b",
   "metadata": {},
   "outputs": [],
   "source": [
    "#W4A2\n",
    "n=int(input(\"Nhập số nguyên dương n:\"))\n",
    "while n<=0:\n",
    "  n=int(input(\"Nhập sai, nhập lại số nguyên dương n:\"))\n",
    "check=True\n",
    "if n==1: check=False\n",
    "for i in range(2,n):\n",
    "  if n%i==0:\n",
    "    check=False\n",
    "print(check)"
   ]
  },
  {
   "cell_type": "code",
   "execution_count": null,
   "id": "69596cd1",
   "metadata": {},
   "outputs": [],
   "source": [
    "#W4A3\n",
    "giai_thua=1\n",
    "n=int(input(\" Số nguyên dương n:\"))\n",
    "if n ==0:\n",
    "  giai_thua=1\n",
    "else:\n",
    "  for i in range(2,n+1):\n",
    "    giai_thua*=i\n",
    "print(f\"{n}!={giai_thua}\")"
   ]
  },
  {
   "cell_type": "code",
   "execution_count": null,
   "id": "24f14168",
   "metadata": {},
   "outputs": [],
   "source": [
    "#W4A4\n",
    "def count(n):\n",
    "    sum=0\n",
    "    while n!=0:\n",
    "        n=n//10\n",
    "        sum+=1\n",
    "    print(sum)\n",
    "n=int(input(\"Nhập số n:\"))\n",
    "if n>=0:\n",
    "    count(n)\n",
    "else:\n",
    "    count(-n)\n"
   ]
  },
  {
   "cell_type": "code",
   "execution_count": null,
   "id": "3a448b1f",
   "metadata": {},
   "outputs": [],
   "source": [
    "#W4A5\n",
    "n=int(input(\"Nhập số nguyên dương n:\"))\n",
    "check=False\n",
    "numbers=list(map(int,input().split()))\n",
    "for i in numbers:\n",
    "  if i==42:\n",
    "    check=True\n",
    "if check:\n",
    "  print(\"I′ve found the meaning of life!\")\n",
    "else:\n",
    "  print(\"It′s a joke!\")"
   ]
  },
  {
   "cell_type": "code",
   "execution_count": null,
   "id": "5e0eb2b7",
   "metadata": {},
   "outputs": [],
   "source": [
    "#W4A6\n",
    "def so_nguyen_to(n):\n",
    "  if (n<2): return 0\n",
    "  if n==2: return 1\n",
    "  for i in range(2,n):\n",
    "    if n%i==0:\n",
    "      return 0\n",
    "    else:\n",
    "      return 1\n",
    "sum=0\n",
    "a=int(input(\"Nhập số a: \"))\n",
    "b=int(input(\"Nhập số b: \"))\n",
    "for i in range(a,b+1):\n",
    "  sum+=so_nguyen_to(i)\n",
    "print(sum)"
   ]
  },
  {
   "cell_type": "code",
   "execution_count": null,
   "id": "6a7b2351",
   "metadata": {},
   "outputs": [],
   "source": [
    "#W4A7\n",
    "n=int(input(\"Nhập số nguyên dương n(n>=2):\"))\n",
    "for i in range(n-1,0,-1):\n",
    "    if n%i==0:\n",
    "        print(i)\n",
    "        break\n"
   ]
  },
  {
   "cell_type": "code",
   "execution_count": null,
   "id": "6b50246a",
   "metadata": {},
   "outputs": [],
   "source": [
    "#W4A8\n",
    "def revers(n):\n",
    "  re_n=n%10\n",
    "  n=n//10\n",
    "  while  n!=0:  \n",
    "    re_n=re_n*10+(n%10)\n",
    "    n=n//10\n",
    "  return re_n\n",
    "n=int(input(\"Nhập số nguyên dương n:\"))\n",
    "while n<=0:\n",
    "  n=int(input(\"Nhập sai, nhập lại số nguyên dương n:\"))\n",
    "if 0<n<10:\n",
    "  print(f\"0 {n}\")\n",
    "else:\n",
    "    sum=0\n",
    "    while n!=revers(n):\n",
    "        n+=revers(n)\n",
    "        sum+=1\n",
    "    print(f\"{sum} {n}\")\n",
    "#cách này đúng với đề bài nhưng lệch với đáp án (đề lấy dấu =, đáp án thì ko)"
   ]
  },
  {
   "cell_type": "code",
   "execution_count": null,
   "id": "91a2a9da",
   "metadata": {},
   "outputs": [],
   "source": [
    "#W4A9\n",
    "n=int(input(\"Nhập số nguyên dương n:\"))\n",
    "if n<=0:\n",
    "    print(\"No number\")\n",
    "elif 0<n<4:\n",
    "   print(\"1\")\n",
    "else:\n",
    "  #cách này đúng với đề bài nhưng lệch với đáp án (đề lấy dấu =, đáp án thì ko)\n",
    "  for i in range(1,int(n**0.5)+1):\n",
    "    print(i**2,end=\" \")\n"
   ]
  },
  {
   "cell_type": "code",
   "execution_count": null,
   "id": "8e21798b",
   "metadata": {},
   "outputs": [],
   "source": [
    "#W4A10\n",
    "def collatz(n):\n",
    "    sum=1\n",
    "    if n==1:\n",
    "        return 0\n",
    "    else:\n",
    "        while n!=1:\n",
    "            if n%2==0:\n",
    "                sum+=1\n",
    "                n=n/2\n",
    "            else:\n",
    "                sum+=1\n",
    "                n=3*n+1\n",
    "    return sum\n",
    "n=int(input(\"Nhập số nguyên dương n:\"))\n",
    "coll_max=0\n",
    "for i in range(n,0,-1):\n",
    "    if collatz(i)>=coll_max:\n",
    "        coll_max=collatz(i)\n",
    "        num=i\n",
    "print(f\"{num} {coll_max}\")\n"
   ]
  },
  {
   "cell_type": "code",
   "execution_count": null,
   "id": "22e84b9c",
   "metadata": {},
   "outputs": [],
   "source": [
    "#W4A11\n",
    "sum=0\n",
    "n=int(input(\"Nhập số nguyên dương n:\"))\n",
    "for i in range(2,n+1):\n",
    "    if n%i==0 and i%2==0:\n",
    "        sum+=1\n",
    "print(sum)"
   ]
  },
  {
   "cell_type": "code",
   "execution_count": null,
   "id": "742fa1f6",
   "metadata": {},
   "outputs": [],
   "source": [
    "#W4A12\n",
    "x,y=map(int,input(\"Nhập số tiền ban đầu và số tháng: \").split())\n",
    "total=x*((100.7/100)**y)\n",
    "print(f\"Số tiền sau {y} tháng là {int(total)}\")"
   ]
  },
  {
   "cell_type": "code",
   "execution_count": null,
   "id": "9c29f764",
   "metadata": {},
   "outputs": [],
   "source": [
    "#W4A13\n",
    "def tim_tong_uoc(n):\n",
    "    sum=0\n",
    "    for i in range(1,n):\n",
    "        if n%i==0:\n",
    "            sum+=i\n",
    "    return sum\n",
    "\n",
    "x,y=map(int,input().split())\n",
    "if tim_tong_uoc(x)==y and tim_tong_uoc(y)==x:\n",
    "    print(\"True\")\n",
    "else:\n",
    "     print(\"False\")"
   ]
  },
  {
   "cell_type": "code",
   "execution_count": null,
   "id": "be9a3ba2",
   "metadata": {},
   "outputs": [],
   "source": [
    "#W4A14\n",
    "x,y=map(int,input().split())\n",
    "if x>=y:\n",
    "    n=y\n",
    "else:\n",
    "    n=x\n",
    "for i in range(n,0,-1):\n",
    "    if x%i==0 and y%i==0:\n",
    "        print(i)\n",
    "        break"
   ]
  },
  {
   "cell_type": "code",
   "execution_count": null,
   "id": "4f58ae11",
   "metadata": {},
   "outputs": [],
   "source": [
    "#W4A15\n",
    "def tinh(so_con,so_chan):\n",
    "    ga=(4*so_con-so_chan)/2\n",
    "    cho=so_con-ga\n",
    "    if ga<0 or cho<0 or int(ga)!=ga or int(cho)!=cho:\n",
    "        print(\"invalid\")\n",
    "    else:\n",
    "        print(f\"{int(ga)} {int(cho)}\")\n",
    "x,y=map(int,input().split())\n",
    "tinh(x,y)   "
   ]
  },
  {
   "cell_type": "code",
   "execution_count": null,
   "id": "b2c27d75",
   "metadata": {},
   "outputs": [],
   "source": [
    "#W4A16\n",
    "for i in range(3,100):\n",
    "    if i%3==0 and i%2==0:\n",
    "        print(i)"
   ]
  },
  {
   "cell_type": "code",
   "execution_count": null,
   "id": "0bd2448a",
   "metadata": {},
   "outputs": [],
   "source": [
    "#W4A17\n",
    "a=int(input(\"Nhập số nguyên dương a:\"))\n",
    "for i in range(1,10):\n",
    "    print(f\"{a}x{i}={a*i}\")"
   ]
  },
  {
   "cell_type": "code",
   "execution_count": null,
   "id": "a07e9118",
   "metadata": {},
   "outputs": [],
   "source": [
    "#W4A18\n",
    "a,b=map(int,input().split())\n",
    "if a>=b:\n",
    "    n=b\n",
    "else:\n",
    "    n=a\n",
    "for i in range(1,n+1):\n",
    "   if a%i==0 and b%i==0:\n",
    "        print(i) "
   ]
  },
  {
   "cell_type": "code",
   "execution_count": null,
   "id": "74ed599f",
   "metadata": {},
   "outputs": [],
   "source": [
    "#W4A19\n",
    "n=int(input(\"Nhập số nguyên dương n:\"))\n",
    "for i in range(1,n+1):\n",
    "    if i%2==0:\n",
    "        print(i,end=\" \")\n",
    "    \n"
   ]
  },
  {
   "cell_type": "code",
   "execution_count": null,
   "id": "0b94e775",
   "metadata": {},
   "outputs": [],
   "source": [
    "#W4A20\n",
    "n=int(input(\"Nhập số nguyên dương n:\"))\n",
    "if n%2==1: print(\"False\")\n",
    "while n%2==0 :\n",
    "    n=n/2\n",
    "if n==1: print(\"True\")  \n",
    "else: print(\"False\")  \n",
    "\n"
   ]
  },
  {
   "cell_type": "code",
   "execution_count": null,
   "id": "e2f04e65",
   "metadata": {},
   "outputs": [],
   "source": [
    "#W4A21\n",
    "sum=0\n",
    "n=int(input(\"Nhập số nguyên dương n:\"))\n",
    "while n!=0:\n",
    "    sum+=n%10\n",
    "    n=(n//10)\n",
    "\n",
    "print(sum)"
   ]
  },
  {
   "cell_type": "code",
   "execution_count": null,
   "id": "ee97d8d8",
   "metadata": {},
   "outputs": [],
   "source": [
    "#W4A22\n",
    "sum_ch=0\n",
    "sum_l=0\n",
    "n=int(input(\"Nhập số nguyên dương n:\"))\n",
    "while n!=0:\n",
    "    if (n%10)%2==0:\n",
    "      sum_ch+=1\n",
    "      n=n//10\n",
    "    else:\n",
    "      sum_l+=1\n",
    "      n=n//10\n",
    "print(f\"Có {sum_ch} chữ số chẵn và {sum_l} chữ số lẻ\")     "
   ]
  },
  {
   "cell_type": "code",
   "execution_count": null,
   "id": "6850d0e3",
   "metadata": {},
   "outputs": [],
   "source": [
    "#W4A23\n",
    "n=float(input(\"Nhập số n: \"))\n",
    "sum=0\n",
    "if n<=1: print(\"Không tìm thấy số k\")\n",
    "else:\n",
    "    for i in range(1,int(n)+1):\n",
    "      sum+=i\n",
    "      if sum>=n:\n",
    "         i=i-1\n",
    "         print(i) \n",
    "         break"
   ]
  },
  {
   "cell_type": "code",
   "execution_count": null,
   "id": "07bf82e7",
   "metadata": {},
   "outputs": [],
   "source": [
    "#W4A24\n",
    "A=float(input(\"Nhập số A: \"))\n",
    "sum=0\n",
    "i=0\n",
    "while sum<=A:\n",
    "    i+=1\n",
    "    sum+=(1/i)\n",
    "print(i)\n",
    "\n",
    "\n"
   ]
  },
  {
   "cell_type": "code",
   "execution_count": null,
   "id": "06be4a8a",
   "metadata": {},
   "outputs": [],
   "source": [
    "#W4A25\n",
    "lst=[]\n",
    "while True:\n",
    "    i=int(input(\"\"))\n",
    "    if i==-1:\n",
    "        break\n",
    "    lst.append(i)\n",
    "print(f\"max={max(lst)}, min={min(lst)}\")"
   ]
  },
  {
   "cell_type": "code",
   "execution_count": null,
   "id": "090b9a80",
   "metadata": {},
   "outputs": [
    {
     "name": "stdout",
     "output_type": "stream",
     "text": [
      "1\n"
     ]
    }
   ],
   "source": [
    "#W4A26\n",
    "A=float(input(\"Nhập số nguyên dương A: \"))\n",
    "pre_num=1\n",
    "af_num=1\n",
    "num=0\n",
    "if 1<=A<2:\n",
    "    print(pre_num)\n",
    "else:\n",
    "    while num<=A:\n",
    "        num=pre_num+af_num\n",
    "        pre_num=af_num\n",
    "        af_num=num\n",
    "    print(pre_num)"
   ]
  },
  {
   "cell_type": "code",
   "execution_count": null,
   "id": "ead84528",
   "metadata": {},
   "outputs": [],
   "source": [
    "#W4A27\n",
    "a=input(\"Nhập một chuỗi: \")\n",
    "sum=0\n",
    "for  i in a:\n",
    "    if i.isalpha:\n",
    "        sum+=1\n",
    "print(f\"Số kí tự là {sum}\")"
   ]
  },
  {
   "cell_type": "code",
   "execution_count": null,
   "id": "1a7ef5e5",
   "metadata": {},
   "outputs": [],
   "source": [
    "#W4A28\n",
    "a=input(\"Nhập một chuỗi: \")\n",
    "a=a.strip()\n",
    "for i in range(len(a)):\n",
    "    print(a[i],end=\"\")\n",
    "    if a[i]==\" \":\n",
    "        break\n",
    "    "
   ]
  },
  {
   "cell_type": "code",
   "execution_count": null,
   "id": "52fd3e9b",
   "metadata": {},
   "outputs": [],
   "source": [
    "#W4A29\n",
    "a,b,c=map(int,input().split())\n",
    "print(a+b+c)"
   ]
  },
  {
   "cell_type": "code",
   "execution_count": null,
   "id": "1efd38b1",
   "metadata": {},
   "outputs": [],
   "source": [
    "#W4A30\n",
    "num,low,up=0,0,0\n",
    "a=input(\"Nhập một chuỗi: \")\n",
    "for i in range(len(a)):\n",
    "    if a[i].isupper():\n",
    "        up+=1\n",
    "    if a[i].islower():\n",
    "        low+=1\n",
    "    if a[i].isdigit():\n",
    "        num+=1\n",
    "print(f\"Có {num} kí tự số,{up} chữ viết hoa,{low} chữ viết thường. \")"
   ]
  },
  {
   "cell_type": "code",
   "execution_count": null,
   "id": "8e5d67a1",
   "metadata": {},
   "outputs": [],
   "source": [
    "#W4A31\n",
    "a=input(\"Nhập một chuỗi: \")\n",
    "sum=0\n",
    "string=\"\"\n",
    "for i in range(len(a)):\n",
    "    if a[i].isdigit():\n",
    "        string+=a[i]\n",
    "        sum+=int(a[i])\n",
    "        n=i\n",
    "        break\n",
    "for i in range(n+1,len(a)):\n",
    "    if a[i].isdigit():\n",
    "        string+=f\"+{a[i]}\"\n",
    "        sum+=int(a[i])\n",
    "print(f\"Tổng:{string}={sum}\")"
   ]
  },
  {
   "cell_type": "code",
   "execution_count": null,
   "id": "92c2a1df",
   "metadata": {},
   "outputs": [],
   "source": [
    "#W4A32\n",
    "def kiem_tra_ky_tu_dac_biet(chuoi):\n",
    "    ky_tu_dac_biet = \"|\\\\!@#$%^&*()_+=-`~[]{};'\\\",./<>?\"\n",
    "    for ky_tu in chuoi:\n",
    "        if ky_tu in ky_tu_dac_biet:\n",
    "            return True\n",
    "    return False\n",
    "a=input(\"Nhập mật khẩu: \")\n",
    "spec,num,low,up=0,0,0,0\n",
    "a=a.replace(\" \",\"\")\n",
    "for i in range(len(a)):\n",
    "    if a[i].isupper():\n",
    "        up+=1\n",
    "    if a[i].islower():\n",
    "        low+=1\n",
    "    if a[i].isdigit():\n",
    "        num+=1\n",
    "    if kiem_tra_ky_tu_dac_biet(a[i]):\n",
    "        spec+=1\n",
    "if up !=0 and low !=0 and up !=0 and spec !=0 and len(a)>6:\n",
    "    print(\"Mật khẩu mạnh!\")\n",
    "else:\n",
    "    print(\"Mật khẩu yếu!\")\n"
   ]
  },
  {
   "cell_type": "code",
   "execution_count": null,
   "id": "a8d2e350",
   "metadata": {},
   "outputs": [],
   "source": [
    "#W4A33\n",
    "def add_dot(number):\n",
    "    s = str(number)\n",
    "    n = len(s)\n",
    "    result = \"\"\n",
    "    for i in range(n):\n",
    "        result += s[i]\n",
    "        if (n - 1 - i) % 3 == 0 and i != n - 1:\n",
    "            result += \".\"\n",
    "    return result\n",
    "a=input(\"Nhập một số: \")\n",
    "print(add_dot(a))"
   ]
  },
  {
   "cell_type": "code",
   "execution_count": null,
   "id": "2f021594",
   "metadata": {},
   "outputs": [],
   "source": [
    "#W4A34\n",
    "def remove_substring(a, b):\n",
    "    start_index = a.find(b)\n",
    "    if start_index != -1:\n",
    "        result = a[:start_index] + a[start_index + len(b):]\n",
    "    else:\n",
    "        result = a\n",
    "    return result\n",
    "a=input(\"Nhập chuỗi a: \")\n",
    "b=input(\"Nhập chuỗi b: \")\n",
    "print(remove_substring(a,b))"
   ]
  }
 ],
 "metadata": {
  "kernelspec": {
   "display_name": "Python 3",
   "language": "python",
   "name": "python3"
  },
  "language_info": {
   "codemirror_mode": {
    "name": "ipython",
    "version": 3
   },
   "file_extension": ".py",
   "mimetype": "text/x-python",
   "name": "python",
   "nbconvert_exporter": "python",
   "pygments_lexer": "ipython3",
   "version": "3.13.7"
  }
 },
 "nbformat": 4,
 "nbformat_minor": 5
}
