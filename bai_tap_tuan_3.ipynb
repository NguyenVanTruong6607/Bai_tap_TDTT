{
 "cells": [
  {
   "cell_type": "code",
   "execution_count": null,
   "id": "27f3d245",
   "metadata": {},
   "outputs": [],
   "source": [
    "#Viết một chương trình nhập vào một số nguyên n và in ra các chữ số đảo ngược nhau.\n",
    "num=int((input(\"Nhập một số:\")))\n",
    "reversed_num=int(str(abs(num))[::-1]) * (-1 if num<0 else 1)\n",
    "print(reversed_num)"
   ]
  },
  {
   "cell_type": "code",
   "execution_count": null,
   "id": "c1c6dfde",
   "metadata": {},
   "outputs": [],
   "source": [
    "# Hoán đổi hai số không sd biến tạm thời\n",
    "# Sử dụng phép toán XOR bitwise để hoán đổi giá trị của hai biến\n",
    "a,b=map(int,input().split())\n",
    "a = a ^ b\n",
    "b = a ^ b\n",
    "a = a ^ b\n",
    "print(a, b) "
   ]
  },
  {
   "cell_type": "code",
   "execution_count": null,
   "id": "fbdcc2ae",
   "metadata": {},
   "outputs": [],
   "source": [
    "# Kiểm tra xem một số có phải là lũy thừa của 2 hay không\n",
    "# Sử dụng các toán tử bitwise để xác định xem một số có phải là lũy thừa của 2 hay không.\n",
    "\n",
    "num=int(input())\n",
    "check='True' if num & (num-1) == 0 else 'False'\n",
    "print(check)\n"
   ]
  },
  {
   "cell_type": "code",
   "execution_count": null,
   "id": "04729ea8",
   "metadata": {},
   "outputs": [],
   "source": [
    "# viêt chương trình chia một số m cho n, kết quả thu được làm tròn xuống\n",
    "\n",
    "a,b=map(int,input().split())\n",
    "if a/b>=0:\n",
    "    ans=int(a/b)\n",
    "else:\n",
    "     ans=int(a/b)-1\n",
    "print(ans)\n"
   ]
  },
  {
   "cell_type": "code",
   "execution_count": null,
   "id": "9b9858e5",
   "metadata": {},
   "outputs": [],
   "source": [
    "# viêt chương trình chia một số m cho n, kết quả thu được làm tròn lên\n",
    "a,b=map(int,input().split())\n",
    "print(round(a/b))\n"
   ]
  },
  {
   "cell_type": "code",
   "execution_count": null,
   "id": "222a78bd",
   "metadata": {},
   "outputs": [],
   "source": [
    "# Nhập vào một số nguyên dương x, bạn hãy kiểm tra xem x là số chẵn hay lẻ. Nếu x là số chẵn, in ra\n",
    "# \"Even\". Nếu x là số lẻ, in ra \"Odd\". \n",
    "\n",
    "num=int(input())\n",
    "check=\"Even\" if num %2 ==0 else \"Odd\"\n",
    "print(check)"
   ]
  },
  {
   "cell_type": "code",
   "execution_count": null,
   "id": "c1cd7d39",
   "metadata": {},
   "outputs": [],
   "source": [
    "#Nhập vào hai số nguyên a, b. Nếu cả hai số a, b đều âm thì in ra \"Yes\", ngược lại in ra \"No\".\n",
    "a,b=map(int,input().split())\n",
    "check=\"Yes\" if a<0 and b<0 else \"No\"\n",
    "print(check)"
   ]
  },
  {
   "cell_type": "code",
   "execution_count": null,
   "id": "e28b493c",
   "metadata": {},
   "outputs": [],
   "source": [
    "#Nhập vào hai chuỗi a, b gồm các chữ cái thường. In ra \"True\" nếu chuỗi a dài hơn chuỗi b. Ngược lại in ra \"False\".\n",
    "a=input(\"Nhập chuỗi a:\")\n",
    "b=input(\"Nhập chuỗi b:\")\n",
    "check='True' if len(a)>len(b) else 'False'\n",
    "print(check)"
   ]
  },
  {
   "cell_type": "code",
   "execution_count": null,
   "id": "78293072",
   "metadata": {},
   "outputs": [],
   "source": [
    "# Nhập vào 3 số nguyên dương a, b, c. Kiểm tra xem a, b, c có cấu thành độ dài cạnh của 1 tam giác\n",
    "#     được không. Nếu a, b, c cấu tạo thành được một tam giác, in ra \"Yes\". Ngược lại in ra \"No\".\n",
    "\n",
    "a=int(input(\"Nhập cạnh a: \"))\n",
    "b=int(input(\"Nhập cạnh b: \"))\n",
    "c=int(input(\"Nhập cạnh c: \"))\n",
    "if a<0 or b<0 or c<0:\n",
    "    print(\"No\")\n",
    "else:\n",
    "    check=\"Yes\" if (a + b > c and a + c > b) and b + c > a else \"No\"\n",
    "    print(check)"
   ]
  },
  {
   "cell_type": "code",
   "execution_count": null,
   "id": "2c2f8b79",
   "metadata": {},
   "outputs": [],
   "source": [
    "#Nhập vào 4 số nguyên. In ra màn hình số nguyên lớn nhất trong 4 số.\n",
    "a,b,c,d=map(int,input().split())\n",
    "check= a if (a>b and a>c) and a>d else(b if b>c and b>d else (c if c>d else d))\n",
    "print(check)"
   ]
  },
  {
   "cell_type": "code",
   "execution_count": null,
   "id": "dd0baaac",
   "metadata": {},
   "outputs": [],
   "source": [
    "#Nhập vào 3 số nguyên dương a,b,c là độ dài 3 cạnh của một tam giác. Kiểm tra 3 số đã nhập có tạo thành\n",
    "#một tam giác hợp lệ hay không. Nếu không in ra \"Không phải tam giác\". Nếu có, phân loại tam giác đó là\n",
    "#\"Tam giác đều\", \"Tam giác cân\", hay \"Tam giác thường\".\n",
    "\n",
    "a,b,c=map(int,input().split())\n",
    "if a<0 or b<0 or c<0:\n",
    "    print(\"Không phải tam giác\")\n",
    "elif (a + b <= c or a + c <= b) or b + c<= a :\n",
    "    print(\"Không phải tam giác\")\n",
    "else:\n",
    "    if a==b==c:\n",
    "        print(\"Tam giác đều\")\n",
    "    elif a==b or b==c or c==a:\n",
    "        print(\"Tam giác cân\")\n",
    "    else :\n",
    "        print(\"Tam giác thường\")"
   ]
  },
  {
   "cell_type": "code",
   "execution_count": null,
   "id": "e403f8b9",
   "metadata": {},
   "outputs": [],
   "source": [
    "#Nhập vào một số nguyên dương n là số năm, kiểm tra xem năm đó có phải là năm nhuận hay không. Năm\n",
    "#nhuận là năm chia hết cho 4 nhưng không chia hết cho 100, hoặc chia hết cho 400. Nếu là năm nhuận in ra\n",
    "#\"Yes\", nếu không in ra \"No\"\n",
    "\n",
    "year=int(input(\"Nhập một năm: \"))\n",
    "check=\"Yes\" if (year % 4==0 and year % 100 !=0) or year % 400==0 else \"No\"\n",
    "print(check)"
   ]
  },
  {
   "cell_type": "code",
   "execution_count": null,
   "id": "598b7cae",
   "metadata": {},
   "outputs": [],
   "source": [
    "# Nhập vào số kWh điện tiêu thụ. Tính tiền điện theo các bậc sau:\n",
    "# - 0-50 kWh: 1500đ/kWh\n",
    "# - 51-100 kWh: 2000đ/kWh\n",
    "# - 100 kWh: 3000đ/kWh\n",
    "\n",
    "so_dien=int(input(\"Nhập số điện : \"))\n",
    "if 0<= so_dien<=50:\n",
    "    print(f\"Số tiền là: {so_dien*1500}\")\n",
    "if 50< so_dien<=100:\n",
    "    print(f\"Số tiền là: {(so_dien-50)*2000+50*1500}\")\n",
    "if 100< so_dien:\n",
    "    print(f\"Số tiền là: {50*2000+50*1500+(so_dien-100)*3000}\")"
   ]
  },
  {
   "cell_type": "code",
   "execution_count": null,
   "id": "99c76c45",
   "metadata": {},
   "outputs": [],
   "source": [
    "# Nhập vào hai số thực a và b của phương trình ax + b = 0. Tìm và in ra nghiệm của phương trình, kết quả\n",
    "# làm tròn đến số thập phân thứ 2. In ra \"Vô nghiệm\" hoặc \"Vô số nghiệm\" trong trường hợp tương ứng.\n",
    "\n",
    "a,b=map(float,input().split())\n",
    "if a==0 and b==0:\n",
    "    print(\"Vô số nghiệm\") \n",
    "elif a==0:\n",
    "    print(\"Vô nghiệm\") \n",
    "else:\n",
    "    print(f\"Phương trình có nghiệm là {-b/a :.2f}\")"
   ]
  },
  {
   "cell_type": "code",
   "execution_count": null,
   "id": "0c413d3c",
   "metadata": {},
   "outputs": [],
   "source": [
    "# Nhập vào điểm trung bình của một học sinh và in ra học lực của học sinh đó. Xếp loại học lực theo quy tắc:\n",
    "# - >= 8.0: Giỏi\n",
    "# - >= 6.5: Khá\n",
    "# - >= 5.0: Trung bình\n",
    "# - < 5.0: Yếu\n",
    "grade=float(input())\n",
    "if 0<=grade< 5.0:\n",
    "    print(\"Yếu\")\n",
    "elif 5.0<=grade< 6.5:\n",
    "    print(\"Trung bình\")\n",
    "elif 6.5<=grade< 8.0:\n",
    "    print(\"Khá\")   \n",
    "elif 8.0<=grade<= 10.0:\n",
    "    print(\"Giỏi\")\n",
    "else:\n",
    "    print(\"Điểm không hợp lệ!\")"
   ]
  },
  {
   "cell_type": "code",
   "execution_count": null,
   "id": "31aa91bc",
   "metadata": {},
   "outputs": [],
   "source": [
    "# Nhập vào một số thực: in ra kết quả làm tròn lên ,tròn xuống, làm tròn tới số nguyên gần nhất (không được\n",
    "# sử dụng hàm sẵn có của pyton). Các kết quả cách nhau một dấu cách\n",
    "num=float(input())\n",
    "if num>=0 and num-int(num)>0:\n",
    "    num1=int(num)+1\n",
    "    num2=int(num)\n",
    "    num3=round(num)\n",
    "if num>=0 and num-int(num)==0:\n",
    "    num1=round(num)\n",
    "    num2=int(num)\n",
    "    num3=round(num)\n",
    "if num<0:\n",
    "    num1=int(num)\n",
    "    num2=int(num)-1\n",
    "    num3=round(num)\n",
    "print(f\"Kết quả là:{num1} {num2} {num3}\")"
   ]
  }
 ],
 "metadata": {
  "kernelspec": {
   "display_name": "Python 3",
   "language": "python",
   "name": "python3"
  },
  "language_info": {
   "codemirror_mode": {
    "name": "ipython",
    "version": 3
   },
   "file_extension": ".py",
   "mimetype": "text/x-python",
   "name": "python",
   "nbconvert_exporter": "python",
   "pygments_lexer": "ipython3",
   "version": "3.13.7"
  }
 },
 "nbformat": 4,
 "nbformat_minor": 5
}
