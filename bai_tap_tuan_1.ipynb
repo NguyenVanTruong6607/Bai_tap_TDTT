{
 "cells": [
  {
   "cell_type": "code",
   "execution_count": null,
   "id": "0ee41ca9",
   "metadata": {},
   "outputs": [],
   "source": [
    "#W2A1\n",
    "print(\"Hello Would!\")\n"
   ]
  },
  {
   "cell_type": "code",
   "execution_count": null,
   "id": "0c8cdddd",
   "metadata": {},
   "outputs": [],
   "source": [
    "#W2A2\n",
    "ten=input('Tên bạn là gì:')\n",
    "print(f\"Chào {ten}!,chúc bạn một ngày tốt lành!\")"
   ]
  },
  {
   "cell_type": "code",
   "execution_count": null,
   "id": "3d1652d6",
   "metadata": {},
   "outputs": [],
   "source": [
    "#W2A3\n",
    "a=int(input(\"Nhập số a:\"))\n",
    "b=int(input(\"Nhập số b:\"))\n",
    "\n",
    "print(f\"a+b={a+b}\")\n",
    "print(f\"a-b={a-b}\")\n",
    "print(f\"a*b={a*b}\")\n",
    "print(f\"a/b={round(a/b,2):.2f}\")\n",
    "print(f\"a/b lấy phần nguyên {a//b}\")\n",
    "print(f\"a/b lấy dư {a%b}\")"
   ]
  },
  {
   "cell_type": "code",
   "execution_count": null,
   "id": "37e4670d",
   "metadata": {},
   "outputs": [],
   "source": [
    "#W2A4\n",
    "\n",
    "diem = list(map(float, input(\"Nhập điểm:\").split()))\n",
    "a1, b1, c1, a2, b2, a3 = diem\n",
    "diem_trung_binh = (a1 + b1 + c1 + (a2 + b2) * 2 + a3 * 3) / 10\n",
    "print(f\"Điểm trung bình của bạn là: {diem_trung_binh:.1f}\")"
   ]
  },
  {
   "cell_type": "code",
   "execution_count": null,
   "id": "ab6608f7",
   "metadata": {},
   "outputs": [],
   "source": [
    "#W2A5\n",
    "numbers=list(map(int,input(\"Nhập 2 số a,b:\").split()))\n",
    "a,b=numbers\n",
    "ket_qua=a**b\n",
    "print (f\"kết quả của {a} mũ {b} là:{ket_qua }\")"
   ]
  },
  {
   "cell_type": "code",
   "execution_count": null,
   "id": "06c3eef5",
   "metadata": {},
   "outputs": [],
   "source": [
    "#W2A6\n",
    "ky_tu_thuong = input(\"Nhập một ký tự chữ cái thường ('a' đến 'z'): \")\n",
    "ma_unicode = ord(ky_tu_thuong)\n",
    "print(f\"Mã Unicode của '{ky_tu_thuong}' là: {ma_unicode}\")\n",
    "in_hoa=chr(ma_unicode-32)\n",
    "print(\"Chữ in hoa là:{in_hoa}\")"
   ]
  },
  {
   "cell_type": "code",
   "execution_count": null,
   "id": "40271cef",
   "metadata": {},
   "outputs": [],
   "source": [
    "#W2A7\n",
    "A = ((13 ** 2) * 3) + 5\n",
    "B = 13**2*3 + 5\n",
    "print(f\"A = ((13 ** 2) * 3) + 5={A}\")\n",
    "print(f\"B = 13**2*3+ 5={B}\")\n"
   ]
  },
  {
   "cell_type": "code",
   "execution_count": null,
   "id": "1135fc28",
   "metadata": {},
   "outputs": [],
   "source": [
    "#W2A8\n",
    "do_c=float(input(\"nhập nhiệt độ ở độ C:\"))\n",
    "do_F=(9/5)*do_c + 32 \n",
    "print(f\"{do_c} độ C bằng {round(do_F,2):.2f} độ F\")"
   ]
  },
  {
   "cell_type": "code",
   "execution_count": null,
   "id": "48555042",
   "metadata": {},
   "outputs": [],
   "source": [
    "#W2A9\n",
    "x=float(input(\"Số tiền chiếc đồng hồ là: \"))\n",
    "cost = x + 10 + x * ((30 / 100) + (10 / 100))\n",
    "print(f\"Số tiền phải trả là {round(cost,2):.2f}\")"
   ]
  },
  {
   "cell_type": "code",
   "execution_count": null,
   "id": "d0296c07",
   "metadata": {},
   "outputs": [],
   "source": [
    "#W2A10\n",
    "name=list(map(str,input(\"Nhập tên 3 người cách nhau bằng dấu cách: \").split()))\n",
    "print(f\"Hi {name[2]},{name[1]} và {name[0]}\")"
   ]
  },
  {
   "cell_type": "code",
   "execution_count": null,
   "id": "c4f9b194",
   "metadata": {},
   "outputs": [],
   "source": [
    "#W2A11\n",
    "hour=int(input(\"Nhập số giờ \"))\n",
    "min=int(input(\"Nhập số phút \"))\n",
    "after_hour=hour*3600\n",
    "after_min=min*60\n",
    "print(f\"kết quả:{hour}h={after_hour}s; {min}m={after_min}s\")"
   ]
  },
  {
   "cell_type": "code",
   "execution_count": null,
   "id": "ba0b3214",
   "metadata": {},
   "outputs": [],
   "source": [
    "#W2A12\n",
    "n=int(input(\"nhập độ dài cạnh rubik \"))\n",
    "sticker=n*n*6\n",
    "print(f\"số miếng dán cần là:{sticker}\")"
   ]
  },
  {
   "cell_type": "code",
   "execution_count": null,
   "id": "5c0ab24d",
   "metadata": {},
   "outputs": [],
   "source": [
    "#W2A13\n",
    "a=int(input(\"Nhập số a: \"))\n",
    "b=int(input(\"Nhập số b: \"))\n",
    "print(f\"Hàng đơn vị của a*b là {(a*b)%10}\")"
   ]
  },
  {
   "cell_type": "code",
   "execution_count": null,
   "id": "a42d30a1",
   "metadata": {},
   "outputs": [],
   "source": [
    "#W2A14\n",
    "a=int(input(\"Nhập số a:\"))\n",
    "b=int(input(\"Nhập số b:\"))\n",
    "a,b=b,a\n",
    "print(f\"số a={a}, số b={b}\")"
   ]
  },
  {
   "cell_type": "code",
   "execution_count": null,
   "id": "2fbba6bd",
   "metadata": {},
   "outputs": [],
   "source": [
    "#W2A15\n",
    "def star_number(n):\n",
    "    return 6*n*(n-1)+1\n",
    "k=int(input(\"Nhập 1 số nguyên dương: \"))\n",
    "while k<=0:\n",
    "    print(\"Nhập sai, nhập lại số nguyên dương: \")\n",
    "    n= input()\n",
    "result=star_number(k)\n",
    "print (f\"Số sao thứ {k} là: {result}\")\n"
   ]
  },
  {
   "cell_type": "code",
   "execution_count": null,
   "id": "7a556cee",
   "metadata": {},
   "outputs": [],
   "source": [
    "#W2A16\n",
    "print(\"Spring\\nSummer\\nAutumn\\nWinter\")"
   ]
  },
  {
   "cell_type": "code",
   "execution_count": null,
   "id": "996407c8",
   "metadata": {},
   "outputs": [],
   "source": [
    "#W2A17\n",
    "print(\"Đây là tam giác:\")\n",
    "for i in range(1,6):\n",
    "    if i%2!=0:\n",
    "        print(\"*\"*i)\n"
   ]
  },
  {
   "cell_type": "code",
   "execution_count": null,
   "id": "a5d9b34f",
   "metadata": {},
   "outputs": [],
   "source": [
    "#W2A18\n",
    "print(\"### # #   ### ###\")\n",
    "print(\" #  #   #  #   # \")\n",
    "print(\" #  #   #  #   # \")\n",
    "print(\" #  #   #  #   # \")\n",
    "print(\" #  # #    #   #\")"
   ]
  },
  {
   "cell_type": "code",
   "execution_count": null,
   "id": "64a45d9b",
   "metadata": {},
   "outputs": [],
   "source": [
    "#W2A19\n",
    "print(\"Monday\\nTuesday\\nWednesday\\nThursday\\nFriday\\nSaturday\\nSunday\")"
   ]
  },
  {
   "cell_type": "code",
   "execution_count": null,
   "id": "42afd6c1",
   "metadata": {},
   "outputs": [],
   "source": [
    "#W2A20\n",
    "print(\"January\\nFebruary\\nMarch\\nApril\\nMay\\nJune\\nJuly\\nAugust\\nSeptember\\nJanuary\\nOctober\\nNovember\\nDecember\")"
   ]
  },
  {
   "cell_type": "code",
   "execution_count": null,
   "id": "de22bcf3",
   "metadata": {},
   "outputs": [],
   "source": [
    "#W2A21\n",
    "for i in range(10):\n",
    "    print(\"Hello, world\")"
   ]
  }
 ],
 "metadata": {
  "language_info": {
   "name": "python"
  }
 },
 "nbformat": 4,
 "nbformat_minor": 5
}
